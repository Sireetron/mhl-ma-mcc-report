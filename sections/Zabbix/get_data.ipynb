{
 "cells": [
  {
   "cell_type": "code",
   "execution_count": 7,
   "metadata": {},
   "outputs": [
    {
     "name": "stdout",
     "output_type": "stream",
     "text": [
      "Collecting py-zabbix\n",
      "  Downloading py_zabbix-1.1.7-py3-none-any.whl (19 kB)\n",
      "Installing collected packages: py-zabbix\n",
      "Successfully installed py-zabbix-1.1.7\n",
      "Note: you may need to restart the kernel to use updated packages.\n"
     ]
    },
    {
     "name": "stderr",
     "output_type": "stream",
     "text": [
      "\n",
      "[notice] A new release of pip is available: 23.3.1 -> 23.3.2\n",
      "[notice] To update, run: python.exe -m pip install --upgrade pip\n"
     ]
    }
   ],
   "source": [
    "pip install py-zabbix"
   ]
  },
  {
   "cell_type": "code",
   "execution_count": 12,
   "metadata": {},
   "outputs": [
    {
     "ename": "TypeError",
     "evalue": "__init__() got an unexpected keyword argument 'url'",
     "output_type": "error",
     "traceback": [
      "\u001b[1;31m---------------------------------------------------------------------------\u001b[0m",
      "\u001b[1;31mTypeError\u001b[0m                                 Traceback (most recent call last)",
      "Cell \u001b[1;32mIn[12], line 4\u001b[0m\n\u001b[0;32m      1\u001b[0m \u001b[38;5;28;01mfrom\u001b[39;00m \u001b[38;5;21;01mpyzabbix\u001b[39;00m \u001b[38;5;28;01mimport\u001b[39;00m ZabbixAPI\n\u001b[0;32m      3\u001b[0m \u001b[38;5;66;03m# Create ZabbixAPI class instance\u001b[39;00m\n\u001b[1;32m----> 4\u001b[0m zapi \u001b[38;5;241m=\u001b[39m \u001b[43mZabbixAPI\u001b[49m\u001b[43m(\u001b[49m\u001b[43murl\u001b[49m\u001b[38;5;241;43m=\u001b[39;49m\u001b[38;5;124;43m'\u001b[39;49m\u001b[38;5;124;43mhttp://10.10.10.20/zabbix\u001b[39;49m\u001b[38;5;124;43m'\u001b[39;49m\u001b[43m,\u001b[49m\u001b[43m \u001b[49m\u001b[43muser\u001b[49m\u001b[38;5;241;43m=\u001b[39;49m\u001b[38;5;124;43m'\u001b[39;49m\u001b[38;5;124;43mAdmin\u001b[39;49m\u001b[38;5;124;43m'\u001b[39;49m\u001b[43m,\u001b[49m\u001b[43m \u001b[49m\u001b[43mpassword\u001b[49m\u001b[38;5;241;43m=\u001b[39;49m\u001b[38;5;124;43m'\u001b[39;49m\u001b[38;5;124;43mzabbix\u001b[39;49m\u001b[38;5;124;43m'\u001b[39;49m\u001b[43m)\u001b[49m\n\u001b[0;32m      6\u001b[0m \u001b[38;5;66;03m# Get all disabled hosts\u001b[39;00m\n\u001b[0;32m      7\u001b[0m result \u001b[38;5;241m=\u001b[39m zapi\u001b[38;5;241m.\u001b[39mhost\u001b[38;5;241m.\u001b[39mget(status\u001b[38;5;241m=\u001b[39m\u001b[38;5;241m1\u001b[39m)\n",
      "\u001b[1;31mTypeError\u001b[0m: __init__() got an unexpected keyword argument 'url'"
     ]
    }
   ],
   "source": [
    "from pyzabbix import ZabbixAPI\n",
    "\n",
    "# Create ZabbixAPI class instance\n",
    "zapi = ZabbixAPI(url='http://10.10.10.20/zabbix', user='Admin', password='zabbix')\n",
    "\n",
    "# Get all disabled hosts\n",
    "result = zapi.host.get(status=1)\n",
    "hostnames = [host['host'] for host in result1]\n",
    "\n",
    "# Other way to get all disabled hosts\n",
    "result2 = zapi.do_request('host.get', {'status':1})\n",
    "hostnames2 = [host['host'] for host in result2['result']]"
   ]
  }
 ],
 "metadata": {
  "kernelspec": {
   "display_name": "Python 3",
   "language": "python",
   "name": "python3"
  },
  "language_info": {
   "codemirror_mode": {
    "name": "ipython",
    "version": 3
   },
   "file_extension": ".py",
   "mimetype": "text/x-python",
   "name": "python",
   "nbconvert_exporter": "python",
   "pygments_lexer": "ipython3",
   "version": "3.8.5"
  }
 },
 "nbformat": 4,
 "nbformat_minor": 2
}
