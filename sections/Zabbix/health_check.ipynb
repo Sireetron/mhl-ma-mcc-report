{
 "cells": [
  {
   "cell_type": "code",
   "execution_count": null,
   "metadata": {},
   "outputs": [],
   "source": [
    "import pandas as pd\n",
    "from PIL import Image\n",
    "import matplotlib.pyplot as plt"
   ]
  },
  {
   "cell_type": "markdown",
   "metadata": {},
   "source": [
    "# import data from GG Sheet"
   ]
  },
  {
   "cell_type": "code",
   "execution_count": null,
   "metadata": {},
   "outputs": [],
   "source": [
    "## sheet สถานภาพเครื่องแม่ข่าย_และอุปกรณ์ต่อพ่วง_PoPNix owner P'Pooooo\n",
    "\n",
    "SHEET_ID = '14GmNx-6YkTfOSYfjQqGw-wC6h9VPqB3frw-ovtMTN5A'\n",
    "SHEET_NAME = 'status'\n",
    "url = f'https://docs.google.com/spreadsheets/d/{SHEET_ID}/gviz/tq?tqx=out:csv&sheet={SHEET_NAME}'\n",
    "df = pd.read_csv(url)\n",
    "df # print(df.head())"
   ]
  },
  {
   "cell_type": "code",
   "execution_count": null,
   "metadata": {},
   "outputs": [],
   "source": [
    "lst_health = df['Health Check']\n",
    "lst_health"
   ]
  },
  {
   "cell_type": "code",
   "execution_count": null,
   "metadata": {},
   "outputs": [],
   "source": [
    "lst_clean = df['Clean Check']\n",
    "lst_clean"
   ]
  },
  {
   "cell_type": "code",
   "execution_count": null,
   "metadata": {},
   "outputs": [],
   "source": [
    "status = df['Health Check'][1]\n",
    "status"
   ]
  },
  {
   "cell_type": "markdown",
   "metadata": {},
   "source": [
    "# Print figure for Health Check"
   ]
  },
  {
   "cell_type": "code",
   "execution_count": null,
   "metadata": {},
   "outputs": [],
   "source": [
    "# Replace 'path/to/your/image.jpg' with the actual path to your image file\n",
    "image_pass =  './sections/Zabbix/Image/pass.png'\n",
    "image_not_pass =  './sections/Zabbix/Image/not_pass.png'\n",
    "\n",
    "# Open the image using Pillow\n",
    "img_pass = Image.open(image_pass)\n",
    "img_not_pass = Image.open(image_not_pass)\n",
    "\n",
    "def show_img(status):\n",
    "    if status == True:\n",
    "        img = img_pass\n",
    "    else: img = img_not_pass\n",
    "    return img\n",
    "\n",
    "# Display 10 figures using a for loop\n",
    "for i in lst_health:\n",
    "    img = show_img(i)\n",
    "    plt.figure()  # Create a new figure\n",
    "    plt.imshow(img)\n",
    "    plt.axis('off')  # Turn off axis labels\n",
    "\n",
    "# # # Show all figures\n",
    "plt.show()\n"
   ]
  },
  {
   "cell_type": "markdown",
   "metadata": {},
   "source": [
    "# Print Figure for Clean check"
   ]
  },
  {
   "cell_type": "code",
   "execution_count": null,
   "metadata": {},
   "outputs": [],
   "source": [
    "# Replace 'path/to/your/image.jpg' with the actual path to your image file\n",
    "image_pass =  './sections/Zabbix/Image/pass.png'\n",
    "image_not_pass =  './sections/Zabbix/Image/not_pass.png'\n",
    "\n",
    "# Open the image using Pillow\n",
    "img_pass = Image.open(image_pass)\n",
    "img_not_pass = Image.open(image_not_pass)\n",
    "\n",
    "def show_img(status):\n",
    "    if status == True:\n",
    "        img = img_pass\n",
    "    else: img = img_not_pass\n",
    "    return img\n",
    "\n",
    "# Display 10 figures using a for loop\n",
    "for i in lst_clean:\n",
    "    img = show_img(i)\n",
    "    plt.figure()  # Create a new figure\n",
    "    plt.imshow(img)\n",
    "    plt.axis('off')  # Turn off axis labels\n",
    "\n",
    "# # # Show all figures\n",
    "plt.show()\n"
   ]
  },
  {
   "cell_type": "markdown",
   "metadata": {},
   "source": [
    "# Print only one figure"
   ]
  },
  {
   "cell_type": "code",
   "execution_count": null,
   "metadata": {},
   "outputs": [],
   "source": [
    "def show_img(status):\n",
    "    if status == True:\n",
    "        img = img_pass\n",
    "    else: img = img_not_pass\n",
    "    \n",
    "    return img\n",
    "\n",
    "result = show_img(lst_clean[1])\n",
    "plt.figure()  # Create a new figure\n",
    "plt.imshow(result)\n",
    "plt.axis('off')  # Turn off axis labels\n",
    "\n",
    "# # # Show all figures\n",
    "plt.show()"
   ]
  }
 ],
 "metadata": {
  "kernelspec": {
   "display_name": "Python 3",
   "language": "python",
   "name": "python3"
  },
  "language_info": {
   "codemirror_mode": {
    "name": "ipython",
    "version": 3
   },
   "file_extension": ".py",
   "mimetype": "text/x-python",
   "name": "python",
   "nbconvert_exporter": "python",
   "pygments_lexer": "ipython3",
   "version": "3.8.5"
  }
 },
 "nbformat": 4,
 "nbformat_minor": 2
}
