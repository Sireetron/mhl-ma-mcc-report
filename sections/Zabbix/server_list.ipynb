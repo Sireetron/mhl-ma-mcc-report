{
 "cells": [
  {
   "cell_type": "code",
   "execution_count": 35,
   "metadata": {},
   "outputs": [
    {
     "data": {
      "text/plain": [
       "True"
      ]
     },
     "execution_count": 35,
     "metadata": {},
     "output_type": "execute_result"
    }
   ],
   "source": [
    "from Crypto.Cipher import AES\n",
    "from Crypto.Util.Padding import pad, unpad\n",
    "from base64 import b64encode, b64decode\n",
    "import json \n",
    "import pandas as pd\n",
    "import numpy as np\n",
    "import os\n",
    "import sys\n",
    "sys.path.append(os.path.abspath('../'))\n",
    "from dotenv import load_dotenv\n",
    "\n",
    "load_dotenv()"
   ]
  },
  {
   "cell_type": "markdown",
   "metadata": {},
   "source": [
    "## Import Data"
   ]
  },
  {
   "cell_type": "code",
   "execution_count": 36,
   "metadata": {},
   "outputs": [
    {
     "name": "stdout",
     "output_type": "stream",
     "text": [
      "http://localhost:8000/report-service/api/v1/server/server-info\n"
     ]
    }
   ],
   "source": [
    "file_queries = os.getenv('REPORT_SERVICE')+ 'server/server-info'\n",
    "print(file_queries)"
   ]
  },
  {
   "cell_type": "code",
   "execution_count": 37,
   "metadata": {},
   "outputs": [],
   "source": [
    "from urllib.request import urlopen\n",
    "\n",
    "# Open the URL using urlopen\n",
    "with urlopen(file_queries) as response:\n",
    "    file_contents = response.read().decode('utf-8')\n",
    "    # print(file_contents)"
   ]
  },
  {
   "cell_type": "code",
   "execution_count": 38,
   "metadata": {},
   "outputs": [
    {
     "name": "stdout",
     "output_type": "stream",
     "text": [
      "{'key': '1278886821604d2d8567885136565909', 'iv': '3346935883364237'}\n"
     ]
    }
   ],
   "source": [
    "encryp = {\n",
    "    \"key\" : os.environ.get('ENCRYPTION_KEY'),\n",
    "    \"iv\" : os.environ.get('ENCRYPTION_IV')\n",
    "}\n",
    "print(encryp)"
   ]
  },
  {
   "cell_type": "code",
   "execution_count": 39,
   "metadata": {},
   "outputs": [],
   "source": [
    "def decrypt(encrypted_text):\n",
    "        # try:\n",
    "        # print(encrypted_text)\n",
    "        encrypted_bytes = b64decode(encrypted_text)\n",
    "        cipher = AES.new(bytes(encryp['key'], 'utf-8'), AES.MODE_CBC, bytes(encryp['iv'],'utf-8'))\n",
    "        decrypted = cipher.decrypt(encrypted_bytes)\n",
    "        unpadded = unpad(decrypted, AES.block_size)\n",
    "        return unpadded "
   ]
  },
  {
   "cell_type": "code",
   "execution_count": 40,
   "metadata": {},
   "outputs": [
    {
     "name": "stdout",
     "output_type": "stream",
     "text": [
      "{'data': [{'server_name': '360-Webserver-01', 'services_software': 'Frontend , Nginx', 'hostname': 'web1.bigdata.local', 'ip_address': '10.10.10.22'}, {'server_name': '360-Webserver-02', 'services_software': 'Frontend , Nginx', 'hostname': 'web2.bigdata.local', 'ip_address': '10.10.10.23'}, {'server_name': 'Big Data Data node 1', 'services_software': 'DataNode, Impala', 'hostname': 'cdhdn1.bigdata.local', 'ip_address': '10.10.10.14'}, {'server_name': 'Big Data Data Node 2', 'services_software': 'DataNode, Impala', 'hostname': 'cdhdn2.bigdata.local', 'ip_address': '10.10.10.15'}, {'server_name': 'Big Data Data Node 3', 'services_software': 'DataNode, Impala', 'hostname': 'cdhdn3.bigdata.local', 'ip_address': '10.10.10.16'}, {'server_name': 'CDH6-Master-Node-1', 'services_software': 'CM, Hue, Atlas, Ranger, Hive', 'hostname': 'cdhmn1.bigdata.local', 'ip_address': '10.10.10.200'}]}\n"
     ]
    }
   ],
   "source": [
    "server_info = decrypt(file_contents).decode()\n",
    "server_info_json = json.loads(server_info)\n",
    "print(server_info_json)"
   ]
  },
  {
   "cell_type": "code",
   "execution_count": 41,
   "metadata": {},
   "outputs": [],
   "source": [
    "# Extract the 'data' list from the dictionary\n",
    "data_list = server_info_json['data']\n",
    "\n",
    "# Convert the list of dictionaries to a DataFrame\n",
    "df_server = pd.DataFrame(data_list)\n",
    "\n",
    "# # Display the DataFrame\n",
    "# print(df_server)\n",
    "# df_server"
   ]
  },
  {
   "cell_type": "code",
   "execution_count": 42,
   "metadata": {},
   "outputs": [
    {
     "data": {
      "text/html": [
       "<div>\n",
       "<style scoped>\n",
       "    .dataframe tbody tr th:only-of-type {\n",
       "        vertical-align: middle;\n",
       "    }\n",
       "\n",
       "    .dataframe tbody tr th {\n",
       "        vertical-align: top;\n",
       "    }\n",
       "\n",
       "    .dataframe thead th {\n",
       "        text-align: right;\n",
       "    }\n",
       "</style>\n",
       "<table border=\"1\" class=\"dataframe\">\n",
       "  <thead>\n",
       "    <tr style=\"text-align: right;\">\n",
       "      <th></th>\n",
       "      <th>No</th>\n",
       "      <th>Name</th>\n",
       "      <th>Service</th>\n",
       "      <th>Hostname</th>\n",
       "      <th>Private IP</th>\n",
       "    </tr>\n",
       "  </thead>\n",
       "  <tbody>\n",
       "    <tr>\n",
       "      <th>0</th>\n",
       "      <td>1</td>\n",
       "      <td>360-Webserver-01</td>\n",
       "      <td>Frontend , Nginx</td>\n",
       "      <td>web1.bigdata.local</td>\n",
       "      <td>10.10.10.22</td>\n",
       "    </tr>\n",
       "    <tr>\n",
       "      <th>1</th>\n",
       "      <td>2</td>\n",
       "      <td>360-Webserver-02</td>\n",
       "      <td>Frontend , Nginx</td>\n",
       "      <td>web2.bigdata.local</td>\n",
       "      <td>10.10.10.23</td>\n",
       "    </tr>\n",
       "    <tr>\n",
       "      <th>3</th>\n",
       "      <td>3</td>\n",
       "      <td>Big Data Data Node 2</td>\n",
       "      <td>DataNode, Impala</td>\n",
       "      <td>cdhdn2.bigdata.local</td>\n",
       "      <td>10.10.10.15</td>\n",
       "    </tr>\n",
       "    <tr>\n",
       "      <th>4</th>\n",
       "      <td>4</td>\n",
       "      <td>Big Data Data Node 3</td>\n",
       "      <td>DataNode, Impala</td>\n",
       "      <td>cdhdn3.bigdata.local</td>\n",
       "      <td>10.10.10.16</td>\n",
       "    </tr>\n",
       "    <tr>\n",
       "      <th>2</th>\n",
       "      <td>5</td>\n",
       "      <td>Big Data Data node 1</td>\n",
       "      <td>DataNode, Impala</td>\n",
       "      <td>cdhdn1.bigdata.local</td>\n",
       "      <td>10.10.10.14</td>\n",
       "    </tr>\n",
       "    <tr>\n",
       "      <th>5</th>\n",
       "      <td>6</td>\n",
       "      <td>CDH6-Master-Node-1</td>\n",
       "      <td>CM, Hue, Atlas, Ranger, Hive</td>\n",
       "      <td>cdhmn1.bigdata.local</td>\n",
       "      <td>10.10.10.200</td>\n",
       "    </tr>\n",
       "  </tbody>\n",
       "</table>\n",
       "</div>"
      ],
      "text/plain": [
       "   No                  Name                       Service  \\\n",
       "0   1      360-Webserver-01              Frontend , Nginx   \n",
       "1   2      360-Webserver-02              Frontend , Nginx   \n",
       "3   3  Big Data Data Node 2              DataNode, Impala   \n",
       "4   4  Big Data Data Node 3              DataNode, Impala   \n",
       "2   5  Big Data Data node 1              DataNode, Impala   \n",
       "5   6    CDH6-Master-Node-1  CM, Hue, Atlas, Ranger, Hive   \n",
       "\n",
       "               Hostname    Private IP  \n",
       "0    web1.bigdata.local   10.10.10.22  \n",
       "1    web2.bigdata.local   10.10.10.23  \n",
       "3  cdhdn2.bigdata.local   10.10.10.15  \n",
       "4  cdhdn3.bigdata.local   10.10.10.16  \n",
       "2  cdhdn1.bigdata.local   10.10.10.14  \n",
       "5  cdhmn1.bigdata.local  10.10.10.200  "
      ]
     },
     "execution_count": 42,
     "metadata": {},
     "output_type": "execute_result"
    }
   ],
   "source": [
    "# Add a new column 'Run_Number' with consecutive numbers starting from 1\n",
    "df_server = df_server.sort_values(by='server_name')\n",
    "df_server['Run_Number'] =  np.arange(1, len(df_server) + 1)\n",
    "\n",
    "df_server =  df_server[['Run_Number', 'server_name', 'services_software', 'hostname', 'ip_address']]\n",
    "df_server  = df_server.rename(columns={\"Run_Number\": \"No\", \"server_name\": \"Name\",\"services_software\":\"Service\", \"hostname\":\"Hostname\",\"ip_address\":\"Private IP\"})\n",
    "\n",
    "# Display the DataFrame with the new column\n",
    "# print(df_server)\n",
    "\n",
    "df_server"
   ]
  },
  {
   "cell_type": "code",
   "execution_count": 47,
   "metadata": {},
   "outputs": [],
   "source": [
    "server_number = len(df_server)"
   ]
  },
  {
   "cell_type": "code",
   "execution_count": 43,
   "metadata": {},
   "outputs": [
    {
     "data": {
      "text/plain": [
       "{'No': {0: 1, 1: 2, 3: 3, 4: 4, 2: 5, 5: 6},\n",
       " 'Name': {0: '360-Webserver-01',\n",
       "  1: '360-Webserver-02',\n",
       "  3: 'Big Data Data Node 2',\n",
       "  4: 'Big Data Data Node 3',\n",
       "  2: 'Big Data Data node 1',\n",
       "  5: 'CDH6-Master-Node-1'},\n",
       " 'Service': {0: 'Frontend , Nginx',\n",
       "  1: 'Frontend , Nginx',\n",
       "  3: 'DataNode, Impala',\n",
       "  4: 'DataNode, Impala',\n",
       "  2: 'DataNode, Impala',\n",
       "  5: 'CM, Hue, Atlas, Ranger, Hive'},\n",
       " 'Hostname': {0: 'web1.bigdata.local',\n",
       "  1: 'web2.bigdata.local',\n",
       "  3: 'cdhdn2.bigdata.local',\n",
       "  4: 'cdhdn3.bigdata.local',\n",
       "  2: 'cdhdn1.bigdata.local',\n",
       "  5: 'cdhmn1.bigdata.local'},\n",
       " 'Private IP': {0: '10.10.10.22',\n",
       "  1: '10.10.10.23',\n",
       "  3: '10.10.10.15',\n",
       "  4: '10.10.10.16',\n",
       "  2: '10.10.10.14',\n",
       "  5: '10.10.10.200'}}"
      ]
     },
     "execution_count": 43,
     "metadata": {},
     "output_type": "execute_result"
    }
   ],
   "source": [
    "all_server = df_server.to_dict()\n",
    "all_server"
   ]
  },
  {
   "cell_type": "code",
   "execution_count": 55,
   "metadata": {},
   "outputs": [
    {
     "data": {
      "text/plain": [
       "'สถานภาพการใช้งานทรัพยากรและแนวโน้มการใช้งานเครื่องคอมพิวเตอร์แม่ข่าย (Server) จำนวน 6 เครื่อง'"
      ]
     },
     "execution_count": 55,
     "metadata": {},
     "output_type": "execute_result"
    }
   ],
   "source": [
    "topic_text = f\"สถานภาพการใช้งานทรัพยากรและแนวโน้มการใช้งานเครื่องคอมพิวเตอร์แม่ข่าย (Server) จำนวน {server_number} เครื่อง\"\n",
    "topic_text "
   ]
  },
  {
   "cell_type": "code",
   "execution_count": 54,
   "metadata": {},
   "outputs": [],
   "source": [
    "\n",
    "context = {\n",
    "        'topic_text ': topic_text,\n",
    "         'all_server': all_server\n",
    "        }\n",
    "\n",
    "def server_all() :\n",
    "    # print(context)\n",
    "    return context"
   ]
  }
 ],
 "metadata": {
  "kernelspec": {
   "display_name": "Python 3",
   "language": "python",
   "name": "python3"
  },
  "language_info": {
   "codemirror_mode": {
    "name": "ipython",
    "version": 3
   },
   "file_extension": ".py",
   "mimetype": "text/x-python",
   "name": "python",
   "nbconvert_exporter": "python",
   "pygments_lexer": "ipython3",
   "version": "3.8.10"
  }
 },
 "nbformat": 4,
 "nbformat_minor": 2
}
